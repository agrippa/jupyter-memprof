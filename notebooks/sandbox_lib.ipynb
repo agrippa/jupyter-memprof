{
 "cells": [
  {
   "cell_type": "code",
   "execution_count": 1,
   "metadata": {},
   "outputs": [],
   "source": [
    "import numpy as np\n",
    "import jupyter_memprof"
   ]
  },
  {
   "cell_type": "code",
   "execution_count": 2,
   "metadata": {},
   "outputs": [],
   "source": [
    "tmp = np.zeros((1024, 1024, 1024))"
   ]
  },
  {
   "cell_type": "code",
   "execution_count": 3,
   "metadata": {},
   "outputs": [],
   "source": [
    "tmp2 = np.zeros((1024, 1024))"
   ]
  },
  {
   "cell_type": "code",
   "execution_count": 4,
   "metadata": {},
   "outputs": [],
   "source": [
    "class foo(object):\n",
    "    def __init__(self, size):\n",
    "        self._arr = np.zeros(size)\n",
    "        \n",
    "cl = foo((2048, 2048))"
   ]
  },
  {
   "cell_type": "code",
   "execution_count": 5,
   "metadata": {},
   "outputs": [
    {
     "data": {
      "text/plain": [
       "[(\"%s.i0_modules['__main__'].__dict__['tmp']\", 8589934720),\n",
       " (\"%s.i0_modules['__main__'].__dict__['cl'].__dict__['_arr']\", 33554544),\n",
       " (\"%s.i0_modules['__main__'].__dict__['tmp2']\", 8388720)]"
      ]
     },
     "execution_count": 5,
     "metadata": {},
     "output_type": "execute_result"
    }
   ],
   "source": [
    "jupyter_memprof.big_objs()"
   ]
  },
  {
   "cell_type": "code",
   "execution_count": 6,
   "metadata": {},
   "outputs": [],
   "source": [
    "del(tmp)"
   ]
  },
  {
   "cell_type": "code",
   "execution_count": 7,
   "metadata": {},
   "outputs": [],
   "source": [
    "# tmp"
   ]
  },
  {
   "cell_type": "code",
   "execution_count": 8,
   "metadata": {},
   "outputs": [
    {
     "data": {
      "text/plain": [
       "(1024, 1024)"
      ]
     },
     "execution_count": 8,
     "metadata": {},
     "output_type": "execute_result"
    }
   ],
   "source": [
    "tmp2.shape"
   ]
  },
  {
   "cell_type": "code",
   "execution_count": 9,
   "metadata": {},
   "outputs": [
    {
     "data": {
      "text/plain": [
       "[(\"%s.i0_modules['__main__'].__dict__['cl'].__dict__['_arr']\", 33554544),\n",
       " (\"%s.i0_modules['__main__'].__dict__['tmp2']\", 8388720)]"
      ]
     },
     "execution_count": 9,
     "metadata": {},
     "output_type": "execute_result"
    }
   ],
   "source": [
    "jupyter_memprof.big_objs()"
   ]
  },
  {
   "cell_type": "code",
   "execution_count": 10,
   "metadata": {},
   "outputs": [],
   "source": [
    "l = [np.zeros((1024, 1024)), np.zeros((2048, 2048))]"
   ]
  },
  {
   "cell_type": "code",
   "execution_count": 11,
   "metadata": {},
   "outputs": [
    {
     "data": {
      "text/plain": [
       "[(\"%s.i0_modules['__main__'].__dict__['l'][1]\", 67109088),\n",
       " (\"%s.i0_modules['__main__'].__dict__['cl'].__dict__['_arr']\", 67109088),\n",
       " (\"%s.i0_modules['__main__'].__dict__['tmp2']\", 16777440),\n",
       " (\"%s.i0_modules['__main__'].__dict__['l'][0]\", 16777440)]"
      ]
     },
     "execution_count": 11,
     "metadata": {},
     "output_type": "execute_result"
    }
   ],
   "source": [
    "jupyter_memprof.big_objs()"
   ]
  },
  {
   "cell_type": "code",
   "execution_count": 12,
   "metadata": {},
   "outputs": [],
   "source": [
    "del l[0]"
   ]
  },
  {
   "cell_type": "code",
   "execution_count": 13,
   "metadata": {},
   "outputs": [
    {
     "data": {
      "text/plain": [
       "[(\"%s.i0_modules['__main__'].__dict__['l'][0]\", 67109088),\n",
       " (\"%s.i0_modules['__main__'].__dict__['cl'].__dict__['_arr']\", 67109088),\n",
       " (\"%s.i0_modules['__main__'].__dict__['tmp2']\", 8388720)]"
      ]
     },
     "execution_count": 13,
     "metadata": {},
     "output_type": "execute_result"
    }
   ],
   "source": [
    "jupyter_memprof.big_objs()"
   ]
  },
  {
   "cell_type": "code",
   "execution_count": null,
   "metadata": {},
   "outputs": [],
   "source": []
  }
 ],
 "metadata": {
  "kernelspec": {
   "display_name": "Python 3",
   "language": "python",
   "name": "python3"
  },
  "language_info": {
   "codemirror_mode": {
    "name": "ipython",
    "version": 3
   },
   "file_extension": ".py",
   "mimetype": "text/x-python",
   "name": "python",
   "nbconvert_exporter": "python",
   "pygments_lexer": "ipython3",
   "version": "3.6.9"
  }
 },
 "nbformat": 4,
 "nbformat_minor": 2
}
