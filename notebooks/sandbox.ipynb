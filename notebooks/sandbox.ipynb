{
 "cells": [
  {
   "cell_type": "code",
   "execution_count": 1,
   "metadata": {},
   "outputs": [],
   "source": [
    "from guppy import hpy\n",
    "import numpy as np\n",
    "hp=hpy()"
   ]
  },
  {
   "cell_type": "code",
   "execution_count": 2,
   "metadata": {},
   "outputs": [
    {
     "data": {
      "text/plain": [
       "Partition of a set of 285531 objects. Total size = 35829347 bytes.\n",
       " Index  Count   %     Size   % Cumulative  % Kind (class / dict of class)\n",
       "     0  79825  28 10260217  29  10260217  29 str\n",
       "     1  79139  28  5964768  17  16224985  45 tuple\n",
       "     2  36506  13  2699913   8  18924898  53 bytes\n",
       "     3  18399   6  2661144   7  21586042  60 types.CodeType\n",
       "     4  17240   6  2344640   7  23930682  67 function\n",
       "     5   2226   1  2140504   6  26071186  73 type\n",
       "     6   5066   2  1944232   5  28015418  78 dict (no owner)\n",
       "     7    899   0  1352024   4  29367442  82 dict of module\n",
       "     8   2226   1  1089592   3  30457034  85 dict of type\n",
       "     9   1971   1   622752   2  31079786  87 set\n",
       "<839 more rows. Type e.g. '_.more' to view.>"
      ]
     },
     "execution_count": 2,
     "metadata": {},
     "output_type": "execute_result"
    }
   ],
   "source": [
    "hp.heap()"
   ]
  },
  {
   "cell_type": "code",
   "execution_count": 3,
   "metadata": {},
   "outputs": [],
   "source": [
    "hp.setrelheap()"
   ]
  },
  {
   "cell_type": "code",
   "execution_count": 4,
   "metadata": {},
   "outputs": [
    {
     "data": {
      "text/plain": [
       "Partition of a set of 192 objects. Total size = 30283 bytes.\n",
       " Index  Count   %     Size   % Cumulative  % Kind (class / dict of class)\n",
       "     0     22  11    13480  45     13480  45 types.FrameType\n",
       "     1     16   8     4224  14     17704  58 dict (no owner)\n",
       "     2     20  10     1536   5     19240  64 list\n",
       "     3     23  12     1520   5     20760  69 tuple\n",
       "     4      7   4     1288   4     22048  73 zmq.sugar.frame.Frame\n",
       "     5      8   4     1088   4     23136  76 function\n",
       "     6     13   7     1040   3     24176  80 builtins.weakref\n",
       "     7     17   9      816   3     24992  83 builtins.cell\n",
       "     8     11   6      706   2     25698  85 str\n",
       "     9      9   5      693   2     26391  87 bytes\n",
       "<29 more rows. Type e.g. '_.more' to view.>"
      ]
     },
     "execution_count": 4,
     "metadata": {},
     "output_type": "execute_result"
    }
   ],
   "source": [
    "hp.heap()"
   ]
  },
  {
   "cell_type": "code",
   "execution_count": 5,
   "metadata": {},
   "outputs": [],
   "source": [
    "tmp = np.zeros((1024, 1024, 1024))"
   ]
  },
  {
   "cell_type": "code",
   "execution_count": 6,
   "metadata": {},
   "outputs": [],
   "source": [
    "tmp2 = np.zeros((1024, 1024))"
   ]
  },
  {
   "cell_type": "code",
   "execution_count": 7,
   "metadata": {},
   "outputs": [],
   "source": [
    "class foo(object):\n",
    "    def __init__(self, size):\n",
    "        self._arr = np.zeros(size)\n",
    "        \n",
    "cl = foo((2048, 2048))"
   ]
  },
  {
   "cell_type": "code",
   "execution_count": 8,
   "metadata": {},
   "outputs": [
    {
     "data": {
      "text/plain": [
       "Partition of a set of 279 objects. Total size = 8631917309 bytes.\n",
       " Index  Count   %     Size   % Cumulative  % Kind (class / dict of class)\n",
       "     0      3   1 8631877984 100 8631877984 100 numpy.ndarray\n",
       "     1     22   8    13480   0 8631891464 100 types.FrameType\n",
       "     2     17   6     4464   0 8631895928 100 dict (no owner)\n",
       "     3     34  12     3317   0 8631899245 100 str\n",
       "     4     35  13     2352   0 8631901597 100 tuple\n",
       "     5     26   9     2184   0 8631903781 100 list\n",
       "     6     21   8     1924   0 8631905705 100 bytes\n",
       "     7     10   4     1360   0 8631907065 100 function\n",
       "     8      7   3     1288   0 8631908353 100 zmq.sugar.frame.Frame\n",
       "     9     15   5     1200   0 8631909553 100 builtins.weakref\n",
       "<36 more rows. Type e.g. '_.more' to view.>"
      ]
     },
     "execution_count": 8,
     "metadata": {},
     "output_type": "execute_result"
    }
   ],
   "source": [
    "h = hp.heap()\n",
    "h"
   ]
  },
  {
   "cell_type": "code",
   "execution_count": 11,
   "metadata": {},
   "outputs": [
    {
     "data": {
      "text/plain": [
       "Partition of a set of 279 objects. Total size = 8631917277 bytes.\n",
       " Index  Count   %     Size   % Cumulative  % Type\n",
       "     0      3   1 8631877984 100 8631877984 100 numpy.ndarray\n",
       "     1     22   8    13480   0 8631891464 100 types.FrameType\n",
       "     2     33  12     6552   0 8631898016 100 dict\n",
       "     3     34  12     3317   0 8631901333 100 str\n",
       "     4     35  13     2352   0 8631903685 100 tuple\n",
       "     5     26   9     2152   0 8631905837 100 list\n",
       "     6     21   8     1924   0 8631907761 100 bytes\n",
       "     7     10   4     1360   0 8631909121 100 function\n",
       "     8      7   3     1288   0 8631910409 100 zmq.sugar.frame.Frame\n",
       "     9     15   5     1200   0 8631911609 100 builtins.weakref\n",
       "<25 more rows. Type e.g. '_.more' to view.>"
      ]
     },
     "execution_count": 11,
     "metadata": {},
     "output_type": "execute_result"
    }
   ],
   "source": [
    "h.bytype"
   ]
  },
  {
   "cell_type": "code",
   "execution_count": 12,
   "metadata": {},
   "outputs": [
    {
     "data": {
      "text/plain": [
       " Index  Count   %     Size   % Cumulative  % Type\n",
       "    10      1   0     1056   0 8631912665 100 type\n",
       "    11     20   7      960   0 8631913625 100 builtins.cell\n",
       "    12      5   2      560   0 8631914185 100 _asyncio.Future\n",
       "    13      6   2      384   0 8631914569 100 types.MethodType\n",
       "    14      4   1      352   0 8631914921 100 types.GeneratorType\n",
       "    15      2   1      288   0 8631915209 100 _io.StringIO\n",
       "    16      2   1      288   0 8631915497 100 types.CodeType\n",
       "    17      2   1      192   0 8631915689 100 asyncio.events.Handle\n",
       "    18      3   1      168   0 8631915857 100 _ast.Name\n",
       "    19      2   1      160   0 8631916017 100 functools.partial\n",
       "<15 more rows. Type e.g. '_.more' to view.>"
      ]
     },
     "execution_count": 12,
     "metadata": {},
     "output_type": "execute_result"
    }
   ],
   "source": [
    "_.more"
   ]
  },
  {
   "cell_type": "code",
   "execution_count": 13,
   "metadata": {},
   "outputs": [
    {
     "data": {
      "text/plain": [
       " Index  Count   %     Size   % Cumulative  % Type\n",
       "    20      6   2      144   0 8631916161 100 float\n",
       "    21      2   1      144   0 8631916305 100 types.GetSetDescriptorType\n",
       "    22      2   1      112   0 8631916417 100 IPython.core.interactiveshell.ExecutionInfo\n",
       "    23      2   1      112   0 8631916529 100 IPython.core.interactiveshell.ExecutionResult\n",
       "    24      2   1      112   0 8631916641 100 _ast.Module\n",
       "    25      2   1       96   0 8631916737 100 datetime.datetime\n",
       "    26      1   0       88   0 8631916825 100 types.CoroutineType\n",
       "    27      2   1       60   0 8631916885 100 int\n",
       "    28      1   0       56   0 8631916941 100 __main__.foo\n",
       "    29      1   0       56   0 8631916997 100 _ast.Assign\n",
       "<5 more rows. Type e.g. '_.more' to view.>"
      ]
     },
     "execution_count": 13,
     "metadata": {},
     "output_type": "execute_result"
    }
   ],
   "source": [
    "_.more"
   ]
  },
  {
   "cell_type": "code",
   "execution_count": 14,
   "metadata": {},
   "outputs": [
    {
     "name": "stdout",
     "output_type": "stream",
     "text": [
      "%s.i0_modules['__main__'].__dict__['tmp'] 8589934720\n",
      "\n",
      "%s.i0_modules['__main__'].__dict__['cl'].__dict__['_arr'] 33554544\n",
      "\n",
      "%s.i0_modules['__main__'].__dict__['tmp2'] 8388720\n",
      "\n"
     ]
    }
   ],
   "source": [
    "\"\"\"\n",
    "Miscellaneous docs:\n",
    "http://guppy-pe.sourceforge.net/heapy_UniSet.html#heapykinds.IdentitySet\n",
    "https://smira.ru/wp-content/uploads/2011/08/heapy.html\n",
    "https://github.com/zhuyifei1999/guppy3/blob/master/guppy/heapy/Path.py\n",
    "\"\"\"\n",
    "for p in range(len(h.bysize)):\n",
    "    size_for_partition = h.bysize[p].size\n",
    "    if size_for_partition > 32768:\n",
    "        \n",
    "        for i in range(len(h.bysize[p].byid)):\n",
    "            obj = h.bysize[p].byid[i].shpaths[0]\n",
    "            print(obj, size_for_partition)\n",
    "            # print(h.bysize[p].nodes[i])\n",
    "            print('')\n",
    "            #s = str(h.bysize[p].byid[i].shpaths[0])\n",
    "            #if len(s) > 0:\n",
    "            #    print(s, size_for_partition)"
   ]
  },
  {
   "cell_type": "code",
   "execution_count": 15,
   "metadata": {},
   "outputs": [],
   "source": [
    "del(tmp)"
   ]
  },
  {
   "cell_type": "code",
   "execution_count": 16,
   "metadata": {},
   "outputs": [
    {
     "ename": "NameError",
     "evalue": "name 'tmp' is not defined",
     "output_type": "error",
     "traceback": [
      "\u001b[0;31m---------------------------------------------------------------------------\u001b[0m",
      "\u001b[0;31mNameError\u001b[0m                                 Traceback (most recent call last)",
      "\u001b[0;32m<ipython-input-16-52a35c59c6f2>\u001b[0m in \u001b[0;36m<module>\u001b[0;34m\u001b[0m\n\u001b[0;32m----> 1\u001b[0;31m \u001b[0mtmp\u001b[0m\u001b[0;34m\u001b[0m\u001b[0;34m\u001b[0m\u001b[0m\n\u001b[0m",
      "\u001b[0;31mNameError\u001b[0m: name 'tmp' is not defined"
     ]
    }
   ],
   "source": [
    "tmp"
   ]
  },
  {
   "cell_type": "code",
   "execution_count": 17,
   "metadata": {},
   "outputs": [
    {
     "data": {
      "text/plain": [
       "(1024, 1024)"
      ]
     },
     "execution_count": 17,
     "metadata": {},
     "output_type": "execute_result"
    }
   ],
   "source": [
    "tmp2.shape"
   ]
  },
  {
   "cell_type": "code",
   "execution_count": 18,
   "metadata": {},
   "outputs": [
    {
     "data": {
      "text/plain": [
       "3049"
      ]
     },
     "execution_count": 18,
     "metadata": {},
     "output_type": "execute_result"
    }
   ],
   "source": [
    "import gc\n",
    "gc.collect()"
   ]
  },
  {
   "cell_type": "code",
   "execution_count": 19,
   "metadata": {},
   "outputs": [],
   "source": [
    "h = hp.heap()"
   ]
  },
  {
   "cell_type": "code",
   "execution_count": 20,
   "metadata": {},
   "outputs": [
    {
     "data": {
      "text/plain": [
       "Reference Pattern by <[dict of] class>.\n",
       " 0: _ --- [-] 5488 (IPython.core.interactiveshell.ExecutionInfo | IPython.cor...\n",
       " 1: a      [-] 15 dict (no owner): 0x7ffe3c2f7cf0*1, 0x7ffe3c67b2d0*9...\n",
       " 2: aa ---- [S] 3 dict of module: __main__, linecache, re\n",
       " 3: ab      [-] 3 dict (no owner): 0x7ffe4c6eb750*23, 0x7ffe4ef8c2d0*50...\n",
       " 4: aba ---- [-] 1 dict of ipykernel.zmqshell.ZMQInteractiveShell: 0x7ffe4efe...\n",
       " 5: abaa      [-] 1 ipykernel.zmqshell.ZMQInteractiveShell: 0x7ffe4efe00f0\n",
       " 6: aba3 ----- [-] 46 dict (no owner): 0x7ffe4c6a5e58*2, 0x7ffe4c6aa4c8*5...\n",
       " 7: aba4        [-] 1 dict of IPython.core.magics.UserMagics: 0x7ffe4c707208\n",
       " 8: aba5 ------- [+] 1 IPython.core.magics.UserMagics: 0x7ffe4c707208\n",
       " 9: aba3b       [-] 1 dict of IPython.core.completer.IPCompleter: 0x7ffe4c700160\n",
       "<Type e.g. '_.more' for more.>"
      ]
     },
     "execution_count": 20,
     "metadata": {},
     "output_type": "execute_result"
    }
   ],
   "source": [
    "h.rp"
   ]
  },
  {
   "cell_type": "code",
   "execution_count": 21,
   "metadata": {},
   "outputs": [
    {
     "data": {
      "text/plain": [
       "10: aba3ba ----- [+] 1 IPython.core.completer.IPCompleter: 0x7ffe4c700160\n",
       "11: aba3c       [-] 1 dict of IPython.core.magics.osm.OSMagics: 0x7ffe4c7074a8\n",
       "12: aba3ca ----- [+] 1 IPython.core.magics.osm.OSMagics: 0x7ffe4c7074a8\n",
       "13: aba3d       [-] 1 dict of IPython.core.magics.script.ScriptMagics: 0x7ffe...\n",
       "14: aba3da ----- [+] 1 IPython.core.magics.script.ScriptMagics: 0x7ffe4c707550\n",
       "15: aba3e       [-] 1 dict of IPython.core.ultratb.AutoFormattedTB: 0x7ffe4c7...\n",
       "16: aba3ea ----- [+] 1 IPython.core.ultratb.AutoFormattedTB: 0x7ffe4c700128\n",
       "17: aba3f       [-] 1 dict of IPython.core.ultratb.SyntaxTB: 0x7ffe51db01d0\n",
       "18: aba3fa ----- [+] 1 IPython.core.ultratb.SyntaxTB: 0x7ffe51db01d0\n",
       "19: aba3g       [-] 1 dict of IPython.utils.PyColorize.Parser: 0x7ffe4c6eaac8\n",
       "<Type e.g. '_.more' for more.>"
      ]
     },
     "execution_count": 21,
     "metadata": {},
     "output_type": "execute_result"
    }
   ],
   "source": [
    "_.more"
   ]
  },
  {
   "cell_type": "code",
   "execution_count": 22,
   "metadata": {},
   "outputs": [
    {
     "data": {
      "text/plain": [
       "20: aba3ga ----- [+] 1 IPython.utils.PyColorize.Parser: 0x7ffe4c6eaac8\n",
       "21: aba3h       [-] 1 dict of ipykernel.displayhook.ZMQShellDisplayHook: 0x7f...\n",
       "22: aba3ha ----- [+] 1 ipykernel.displayhook.ZMQShellDisplayHook: 0x7ffe4c7071d0\n",
       "23: aba3i       [-] 1 dict of ipykernel.ipkernel.IPythonKernel: 0x7ffe4efe0358\n",
       "24: aba3ia ----- [+] 1 ipykernel.ipkernel.IPythonKernel: 0x7ffe4efe0358\n",
       "25: aba3j       [-] 1 dict of ipykernel.kernelapp.IPKernelApp: 0x7ffe5304d7b8\n",
       "26: aba3ja ----- [+] 1 ipykernel.kernelapp.IPKernelApp: 0x7ffe5304d7b8\n",
       "27: aba3k       [-] 1 dict of IPython.core.alias.AliasManager: 0x7ffe4c707240\n",
       "28: aba3ka ----- [+] 1 IPython.core.alias.AliasManager: 0x7ffe4c707240\n",
       "29: aba3l       [-] 1 dict of IPython.core.builtin_trap.BuiltinTrap: 0x7ffe4c...\n",
       "<Type e.g. '_.more' for more.>"
      ]
     },
     "execution_count": 22,
     "metadata": {},
     "output_type": "execute_result"
    }
   ],
   "source": [
    "_.more"
   ]
  },
  {
   "cell_type": "code",
   "execution_count": 23,
   "metadata": {},
   "outputs": [
    {
     "name": "stdout",
     "output_type": "stream",
     "text": [
      " 0: hp.Root.i0_modules['__main__'].__dict__['cl'].__dict__['_arr'] 33554544 numpy.ndarray\n",
      "\n",
      " 0: hp.Root.i0_modules['__main__'].__dict__['tmp2'] 8388720 numpy.ndarray\n",
      "\n"
     ]
    }
   ],
   "source": [
    "\"\"\"\n",
    "Miscellaneous docs:\n",
    "http://guppy-pe.sourceforge.net/heapy_UniSet.html#heapykinds.IdentitySet\n",
    "https://smira.ru/wp-content/uploads/2011/08/heapy.html\n",
    "https://github.com/zhuyifei1999/guppy3/blob/master/guppy/heapy/Path.py\n",
    "\"\"\"\n",
    "h = hp.heap()\n",
    "for p in range(len(h.bysize)):\n",
    "    size_for_partition = h.bysize[p].size\n",
    "    if size_for_partition > 32768:\n",
    "        for t in range(len(h.bysize[p].byclodo)):\n",
    "            kind = str(h.bysize[p].byclodo[t].kind)\n",
    "            if not kind.startswith('guppy.'):        \n",
    "                for i in range(len(h.bysize[p].byclodo[t].byid)):\n",
    "                    try:\n",
    "                        name = str(h.bysize[p].byclodo[t].byid[i].shpaths)\n",
    "                        if name.find(\"'objs'\") == -1 and name.find(\"'acc'\") == -1 and \\\n",
    "                                name.find('guppy') == -1 and name.find('hp.Root.i0_sysdict') == -1:\n",
    "                            print(name, size_for_partition, kind)\n",
    "                            print('')\n",
    "                    except Exception as e:\n",
    "                        pass"
   ]
  },
  {
   "cell_type": "code",
   "execution_count": 24,
   "metadata": {},
   "outputs": [],
   "source": [
    "l = [np.zeros((1024, 1024)), np.zeros((2048, 2048))]"
   ]
  },
  {
   "cell_type": "code",
   "execution_count": 25,
   "metadata": {},
   "outputs": [],
   "source": [
    "h = hp.heap()"
   ]
  },
  {
   "cell_type": "code",
   "execution_count": 26,
   "metadata": {},
   "outputs": [
    {
     "name": "stdout",
     "output_type": "stream",
     "text": [
      " 0: hp.Root.i0_modules['__main__'].__dict__['l'][1] 67109088 numpy.ndarray\n",
      "\n",
      " 0: hp.Root.i0_modules['__main__'].__dict__['cl'].__dict__['_arr'] 67109088 numpy.ndarray\n",
      "\n",
      " 0: hp.Root.i0_modules['__main__'].__dict__['l'][0] 16777440 numpy.ndarray\n",
      "\n",
      " 0: hp.Root.i0_modules['__main__'].__dict__['tmp2'] 16777440 numpy.ndarray\n",
      "\n"
     ]
    }
   ],
   "source": [
    "h = hp.heap()\n",
    "for p in range(len(h.bysize)):\n",
    "    size_for_partition = h.bysize[p].size\n",
    "    if size_for_partition > 32768:\n",
    "        for t in range(len(h.bysize[p].byclodo)):\n",
    "            kind = str(h.bysize[p].byclodo[t].kind)\n",
    "            if not kind.startswith('guppy.'):        \n",
    "                for i in range(len(h.bysize[p].byclodo[t].byid)):\n",
    "                    try:\n",
    "                        name = str(h.bysize[p].byclodo[t].byid[i].shpaths)\n",
    "                        if name.find(\"'objs'\") == -1 and name.find(\"'acc'\") == -1 and \\\n",
    "                                name.find('guppy') == -1 and name.find('hp.Root.i0_sysdict') == -1:\n",
    "                            print(name, size_for_partition, kind)\n",
    "                            print('')\n",
    "                    except Exception as e:\n",
    "                        pass"
   ]
  },
  {
   "cell_type": "code",
   "execution_count": null,
   "metadata": {},
   "outputs": [],
   "source": []
  }
 ],
 "metadata": {
  "kernelspec": {
   "display_name": "Python 3",
   "language": "python",
   "name": "python3"
  },
  "language_info": {
   "codemirror_mode": {
    "name": "ipython",
    "version": 3
   },
   "file_extension": ".py",
   "mimetype": "text/x-python",
   "name": "python",
   "nbconvert_exporter": "python",
   "pygments_lexer": "ipython3",
   "version": "3.6.9"
  }
 },
 "nbformat": 4,
 "nbformat_minor": 2
}
